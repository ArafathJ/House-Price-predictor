{
 "cells": [
  {
   "cell_type": "code",
   "execution_count": null,
   "id": "51a1123f-8a89-44f9-b4a8-b9f6af0854c0",
   "metadata": {},
   "outputs": [],
   "source": []
  }
 ],
 "metadata": {
  "kernelspec": {
   "display_name": "",
   "name": ""
  },
  "language_info": {
   "name": ""
  }
 },
 "nbformat": 4,
 "nbformat_minor": 5
}
