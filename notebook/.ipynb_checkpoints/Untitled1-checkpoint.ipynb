{
 "cells": [
  {
   "cell_type": "code",
   "execution_count": null,
   "id": "8f287ded-3cb9-453e-942b-a85e6ba9652a",
   "metadata": {},
   "outputs": [],
   "source": []
  }
 ],
 "metadata": {
  "kernelspec": {
   "display_name": "",
   "name": ""
  },
  "language_info": {
   "name": ""
  }
 },
 "nbformat": 4,
 "nbformat_minor": 5
}
